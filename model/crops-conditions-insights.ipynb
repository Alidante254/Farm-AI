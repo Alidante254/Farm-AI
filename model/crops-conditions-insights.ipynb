{
 "cells": [
  {
   "cell_type": "code",
   "execution_count": 1,
   "id": "563508f4",
   "metadata": {
    "_cell_guid": "b1076dfc-b9ad-4769-8c92-a6c4dae69d19",
    "_uuid": "8f2839f25d086af736a60e9eeb907d3b93b6e0e5",
    "execution": {
     "iopub.execute_input": "2023-08-31T11:16:56.425553Z",
     "iopub.status.busy": "2023-08-31T11:16:56.425110Z",
     "iopub.status.idle": "2023-08-31T11:16:56.444337Z",
     "shell.execute_reply": "2023-08-31T11:16:56.442313Z"
    },
    "papermill": {
     "duration": 0.029072,
     "end_time": "2023-08-31T11:16:56.447017",
     "exception": false,
     "start_time": "2023-08-31T11:16:56.417945",
     "status": "completed"
    },
    "tags": []
   },
   "outputs": [
    {
     "name": "stdout",
     "output_type": "stream",
     "text": [
      "/kaggle/input/crops-conditions/crops_conditions.csv\n"
     ]
    }
   ],
   "source": [
    "import numpy as np\n",
    "import pandas as pd\n",
    "\n",
    "import os\n",
    "for dirname, _, filenames in os.walk('/kaggle/input'):\n",
    "    for filename in filenames:\n",
    "        print(os.path.join(dirname, filename))\n"
   ]
  },
  {
   "cell_type": "markdown",
   "id": "91894652",
   "metadata": {
    "papermill": {
     "duration": 0.0042,
     "end_time": "2023-08-31T11:16:56.455993",
     "exception": false,
     "start_time": "2023-08-31T11:16:56.451793",
     "status": "completed"
    },
    "tags": []
   },
   "source": [
    "# Load the dataset"
   ]
  },
  {
   "cell_type": "code",
   "execution_count": 2,
   "id": "00facede",
   "metadata": {
    "execution": {
     "iopub.execute_input": "2023-08-31T11:16:56.466782Z",
     "iopub.status.busy": "2023-08-31T11:16:56.466362Z",
     "iopub.status.idle": "2023-08-31T11:16:56.494028Z",
     "shell.execute_reply": "2023-08-31T11:16:56.492563Z"
    },
    "papermill": {
     "duration": 0.036455,
     "end_time": "2023-08-31T11:16:56.496892",
     "exception": false,
     "start_time": "2023-08-31T11:16:56.460437",
     "status": "completed"
    },
    "tags": []
   },
   "outputs": [],
   "source": [
    "plants_conditions = pd.read_csv(\"/kaggle/input/crops-conditions/crops_conditions.csv\")"
   ]
  },
  {
   "cell_type": "code",
   "execution_count": 3,
   "id": "0c0c5655",
   "metadata": {
    "execution": {
     "iopub.execute_input": "2023-08-31T11:16:56.508828Z",
     "iopub.status.busy": "2023-08-31T11:16:56.507589Z",
     "iopub.status.idle": "2023-08-31T11:16:56.550510Z",
     "shell.execute_reply": "2023-08-31T11:16:56.549178Z"
    },
    "papermill": {
     "duration": 0.051488,
     "end_time": "2023-08-31T11:16:56.553245",
     "exception": false,
     "start_time": "2023-08-31T11:16:56.501757",
     "status": "completed"
    },
    "tags": []
   },
   "outputs": [
    {
     "data": {
      "text/html": [
       "<div>\n",
       "<style scoped>\n",
       "    .dataframe tbody tr th:only-of-type {\n",
       "        vertical-align: middle;\n",
       "    }\n",
       "\n",
       "    .dataframe tbody tr th {\n",
       "        vertical-align: top;\n",
       "    }\n",
       "\n",
       "    .dataframe thead th {\n",
       "        text-align: right;\n",
       "    }\n",
       "</style>\n",
       "<table border=\"1\" class=\"dataframe\">\n",
       "  <thead>\n",
       "    <tr style=\"text-align: right;\">\n",
       "      <th></th>\n",
       "      <th>Plant</th>\n",
       "      <th>Category</th>\n",
       "      <th>Climate Conditions</th>\n",
       "      <th>Temperature Range (°C)</th>\n",
       "      <th>Light Intensity (hours/day)</th>\n",
       "      <th>Relative Humidity (%)</th>\n",
       "      <th>Annual Precipitation (mm)</th>\n",
       "      <th>Wind Conditions</th>\n",
       "      <th>Soil Moisture</th>\n",
       "      <th>Soil Nutrients</th>\n",
       "      <th>Atmospheric Gases</th>\n",
       "      <th>Altitude (m)</th>\n",
       "      <th>Topography</th>\n",
       "      <th>Frost</th>\n",
       "      <th>Heat Stress</th>\n",
       "      <th>Cold Stress</th>\n",
       "      <th>Day Length (hours)</th>\n",
       "      <th>Air Quality</th>\n",
       "      <th>Other</th>\n",
       "    </tr>\n",
       "  </thead>\n",
       "  <tbody>\n",
       "    <tr>\n",
       "      <th>0</th>\n",
       "      <td>Apple (Malus domestica)</td>\n",
       "      <td>Fruit Trees</td>\n",
       "      <td>Temperate</td>\n",
       "      <td>5-25</td>\n",
       "      <td>6-12</td>\n",
       "      <td>60-80</td>\n",
       "      <td>500-1500</td>\n",
       "      <td>Moderate</td>\n",
       "      <td>Moist</td>\n",
       "      <td>Well-balanced</td>\n",
       "      <td>Normal</td>\n",
       "      <td>0-1000</td>\n",
       "      <td>Flat</td>\n",
       "      <td>No</td>\n",
       "      <td>Occasional</td>\n",
       "      <td>Chilling-sensitive</td>\n",
       "      <td>12-16</td>\n",
       "      <td>Good</td>\n",
       "      <td>None</td>\n",
       "    </tr>\n",
       "    <tr>\n",
       "      <th>1</th>\n",
       "      <td>Asian pear</td>\n",
       "      <td>Fruit Trees</td>\n",
       "      <td>Temperate</td>\n",
       "      <td>5-25</td>\n",
       "      <td>6-12</td>\n",
       "      <td>60-80</td>\n",
       "      <td>500-1500</td>\n",
       "      <td>Moderate</td>\n",
       "      <td>Moist</td>\n",
       "      <td>Well-balanced</td>\n",
       "      <td>Normal</td>\n",
       "      <td>Null</td>\n",
       "      <td>Null</td>\n",
       "      <td>Null</td>\n",
       "      <td>Null</td>\n",
       "      <td>Null</td>\n",
       "      <td>Null</td>\n",
       "      <td>Null</td>\n",
       "      <td>Null</td>\n",
       "    </tr>\n",
       "    <tr>\n",
       "      <th>2</th>\n",
       "      <td>Loquat (Japanese medlar)</td>\n",
       "      <td>Fruit Trees</td>\n",
       "      <td>Subtropical</td>\n",
       "      <td>10-30</td>\n",
       "      <td>8-12</td>\n",
       "      <td>70-90</td>\n",
       "      <td>800-2000</td>\n",
       "      <td>Moderate</td>\n",
       "      <td>Moist</td>\n",
       "      <td>Well-balanced</td>\n",
       "      <td>Normal</td>\n",
       "      <td>Null</td>\n",
       "      <td>Null</td>\n",
       "      <td>Null</td>\n",
       "      <td>Null</td>\n",
       "      <td>Null</td>\n",
       "      <td>Null</td>\n",
       "      <td>Null</td>\n",
       "      <td>Null</td>\n",
       "    </tr>\n",
       "    <tr>\n",
       "      <th>3</th>\n",
       "      <td>Common medlar</td>\n",
       "      <td>Fruit Trees</td>\n",
       "      <td>Temperate</td>\n",
       "      <td>5-25</td>\n",
       "      <td>6-12</td>\n",
       "      <td>60-80</td>\n",
       "      <td>500-1500</td>\n",
       "      <td>Moderate</td>\n",
       "      <td>Moist</td>\n",
       "      <td>Well-balanced</td>\n",
       "      <td>Normal</td>\n",
       "      <td>Null</td>\n",
       "      <td>Null</td>\n",
       "      <td>Null</td>\n",
       "      <td>Null</td>\n",
       "      <td>Null</td>\n",
       "      <td>Null</td>\n",
       "      <td>Null</td>\n",
       "      <td>Null</td>\n",
       "    </tr>\n",
       "    <tr>\n",
       "      <th>4</th>\n",
       "      <td>Pear</td>\n",
       "      <td>Fruit Trees</td>\n",
       "      <td>Temperate</td>\n",
       "      <td>5-25</td>\n",
       "      <td>6-12</td>\n",
       "      <td>60-80</td>\n",
       "      <td>500-1500</td>\n",
       "      <td>Moderate</td>\n",
       "      <td>Moist</td>\n",
       "      <td>Well-balanced</td>\n",
       "      <td>Normal</td>\n",
       "      <td>0-1500</td>\n",
       "      <td>Flat</td>\n",
       "      <td>No</td>\n",
       "      <td>Occasional</td>\n",
       "      <td>Chilling-sensitive</td>\n",
       "      <td>12-16</td>\n",
       "      <td>Good</td>\n",
       "      <td>None</td>\n",
       "    </tr>\n",
       "  </tbody>\n",
       "</table>\n",
       "</div>"
      ],
      "text/plain": [
       "                      Plant     Category Climate Conditions  \\\n",
       "0   Apple (Malus domestica)  Fruit Trees          Temperate   \n",
       "1                Asian pear  Fruit Trees          Temperate   \n",
       "2  Loquat (Japanese medlar)  Fruit Trees        Subtropical   \n",
       "3             Common medlar  Fruit Trees          Temperate   \n",
       "4                      Pear  Fruit Trees          Temperate   \n",
       "\n",
       "  Temperature Range (°C) Light Intensity (hours/day) Relative Humidity (%)  \\\n",
       "0                   5-25                        6-12                 60-80   \n",
       "1                   5-25                        6-12                 60-80   \n",
       "2                  10-30                        8-12                 70-90   \n",
       "3                   5-25                        6-12                 60-80   \n",
       "4                   5-25                        6-12                 60-80   \n",
       "\n",
       "  Annual Precipitation (mm) Wind Conditions Soil Moisture Soil Nutrients  \\\n",
       "0                  500-1500        Moderate         Moist  Well-balanced   \n",
       "1                  500-1500        Moderate         Moist  Well-balanced   \n",
       "2                  800-2000        Moderate         Moist  Well-balanced   \n",
       "3                  500-1500        Moderate         Moist  Well-balanced   \n",
       "4                  500-1500        Moderate         Moist  Well-balanced   \n",
       "\n",
       "  Atmospheric Gases Altitude (m) Topography Frost Heat Stress  \\\n",
       "0            Normal       0-1000       Flat    No  Occasional   \n",
       "1            Normal         Null       Null  Null        Null   \n",
       "2            Normal         Null       Null  Null        Null   \n",
       "3            Normal         Null       Null  Null        Null   \n",
       "4            Normal       0-1500       Flat    No  Occasional   \n",
       "\n",
       "          Cold Stress Day Length (hours) Air Quality Other  \n",
       "0  Chilling-sensitive              12-16        Good  None  \n",
       "1                Null               Null        Null  Null  \n",
       "2                Null               Null        Null  Null  \n",
       "3                Null               Null        Null  Null  \n",
       "4  Chilling-sensitive              12-16        Good  None  "
      ]
     },
     "execution_count": 3,
     "metadata": {},
     "output_type": "execute_result"
    }
   ],
   "source": [
    "plants_conditions.head()"
   ]
  },
  {
   "cell_type": "code",
   "execution_count": null,
   "id": "d22fec11",
   "metadata": {
    "papermill": {
     "duration": 0.004855,
     "end_time": "2023-08-31T11:16:56.563681",
     "exception": false,
     "start_time": "2023-08-31T11:16:56.558826",
     "status": "completed"
    },
    "tags": []
   },
   "outputs": [],
   "source": []
  }
 ],
 "kernelspec": {
  "display_name": "Python 3",
  "language": "python",
  "name": "python3"
 },
 "language_info": {
  "codemirror_mode": {
   "name": "ipython",
   "version": 3
  },
  "file_extension": ".py",
  "mimetype": "text/x-python",
  "name": "python",
  "nbconvert_exporter": "python",
  "pygments_lexer": "ipython3",
  "version": "3.6.4"
 },
 "metadata": {
  "kernelspec": {
   "display_name": "Python 3",
   "language": "python",
   "name": "python3"
  },
  "language_info": {
   "codemirror_mode": {
    "name": "ipython",
    "version": 3
   },
   "file_extension": ".py",
   "mimetype": "text/x-python",
   "name": "python",
   "nbconvert_exporter": "python",
   "pygments_lexer": "ipython3",
   "version": "3.10.12"
  },
  "papermill": {
   "default_parameters": {},
   "duration": 16.442242,
   "end_time": "2023-08-31T11:16:57.595557",
   "environment_variables": {},
   "exception": null,
   "input_path": "__notebook__.ipynb",
   "output_path": "__notebook__.ipynb",
   "parameters": {},
   "start_time": "2023-08-31T11:16:41.153315",
   "version": "2.4.0"
  }
 },
 "nbformat": 4,
 "nbformat_minor": 5
}
