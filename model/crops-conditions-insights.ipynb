{
 "cells": [
  {
   "cell_type": "code",
   "execution_count": 1,
   "id": "e98822d6",
   "metadata": {
    "_cell_guid": "b1076dfc-b9ad-4769-8c92-a6c4dae69d19",
    "_uuid": "8f2839f25d086af736a60e9eeb907d3b93b6e0e5",
    "execution": {
     "iopub.execute_input": "2023-08-30T14:41:36.781386Z",
     "iopub.status.busy": "2023-08-30T14:41:36.780453Z",
     "iopub.status.idle": "2023-08-30T14:41:36.801265Z",
     "shell.execute_reply": "2023-08-30T14:41:36.799453Z"
    },
    "papermill": {
     "duration": 0.030255,
     "end_time": "2023-08-30T14:41:36.803975",
     "exception": false,
     "start_time": "2023-08-30T14:41:36.773720",
     "status": "completed"
    },
    "tags": []
   },
   "outputs": [
    {
     "name": "stdout",
     "output_type": "stream",
     "text": [
      "/kaggle/input/crops-conditions/crops_conditions.csv\n"
     ]
    }
   ],
   "source": [
    "import numpy as np\n",
    "import pandas as pd\n",
    "\n",
    "import os\n",
    "for dirname, _, filenames in os.walk('/kaggle/input'):\n",
    "    for filename in filenames:\n",
    "        print(os.path.join(dirname, filename))\n"
   ]
  },
  {
   "cell_type": "markdown",
   "id": "909cceec",
   "metadata": {
    "papermill": {
     "duration": 0.004164,
     "end_time": "2023-08-30T14:41:36.812666",
     "exception": false,
     "start_time": "2023-08-30T14:41:36.808502",
     "status": "completed"
    },
    "tags": []
   },
   "source": [
    "# Load the dataset"
   ]
  },
  {
   "cell_type": "code",
   "execution_count": 2,
   "id": "6e4d8bc3",
   "metadata": {
    "execution": {
     "iopub.execute_input": "2023-08-30T14:41:36.824076Z",
     "iopub.status.busy": "2023-08-30T14:41:36.822884Z",
     "iopub.status.idle": "2023-08-30T14:41:36.849747Z",
     "shell.execute_reply": "2023-08-30T14:41:36.848811Z"
    },
    "papermill": {
     "duration": 0.035304,
     "end_time": "2023-08-30T14:41:36.852566",
     "exception": false,
     "start_time": "2023-08-30T14:41:36.817262",
     "status": "completed"
    },
    "tags": []
   },
   "outputs": [],
   "source": [
    "plants_conditions = pd.read_csv(\"/kaggle/input/crops-conditions/crops_conditions.csv\")"
   ]
  },
  {
   "cell_type": "code",
   "execution_count": null,
   "id": "39c9d8c6",
   "metadata": {
    "papermill": {
     "duration": 0.004204,
     "end_time": "2023-08-30T14:41:36.861609",
     "exception": false,
     "start_time": "2023-08-30T14:41:36.857405",
     "status": "completed"
    },
    "tags": []
   },
   "outputs": [],
   "source": []
  }
 ],
 "kernelspec": {
  "display_name": "Python 3",
  "language": "python",
  "name": "python3"
 },
 "language_info": {
  "codemirror_mode": {
   "name": "ipython",
   "version": 3
  },
  "file_extension": ".py",
  "mimetype": "text/x-python",
  "name": "python",
  "nbconvert_exporter": "python",
  "pygments_lexer": "ipython3",
  "version": "3.6.4"
 },
 "metadata": {
  "kernelspec": {
   "display_name": "Python 3",
   "language": "python",
   "name": "python3"
  },
  "language_info": {
   "codemirror_mode": {
    "name": "ipython",
    "version": 3
   },
   "file_extension": ".py",
   "mimetype": "text/x-python",
   "name": "python",
   "nbconvert_exporter": "python",
   "pygments_lexer": "ipython3",
   "version": "3.10.12"
  },
  "papermill": {
   "default_parameters": {},
   "duration": 14.249172,
   "end_time": "2023-08-30T14:41:37.789922",
   "environment_variables": {},
   "exception": null,
   "input_path": "__notebook__.ipynb",
   "output_path": "__notebook__.ipynb",
   "parameters": {},
   "start_time": "2023-08-30T14:41:23.540750",
   "version": "2.4.0"
  }
 },
 "nbformat": 4,
 "nbformat_minor": 5
}
